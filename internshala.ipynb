{
  "nbformat": 4,
  "nbformat_minor": 0,
  "metadata": {
    "colab": {
      "name": "internshala.ipynb",
      "version": "0.3.2",
      "provenance": []
    },
    "kernelspec": {
      "name": "python3",
      "display_name": "Python 3"
    }
  },
  "cells": [
    {
      "cell_type": "code",
      "metadata": {
        "id": "aAjwOiKyPllO",
        "colab_type": "code",
        "colab": {}
      },
      "source": [
        ""
      ],
      "execution_count": 0,
      "outputs": []
    },
    {
      "cell_type": "markdown",
      "metadata": {
        "id": "O5MDzbMZPwBH",
        "colab_type": "text"
      },
      "source": [
        "# **Problem statement:**\n",
        "\n",
        "Given an N by N chessboard, with a black pawn and a white pawn placed randomly on the board, calculate the minimum number of steps required for the white pawn to reach the black pawn under the following assumptions:\n",
        "\n",
        "a. There are only two pieces on the chessboard.\n",
        "\n",
        "b. The pieces can move in all 8 directions, one step at a time.\n",
        "\n"
      ]
    },
    {
      "cell_type": "code",
      "metadata": {
        "id": "BHPgCsWpPt_6",
        "colab_type": "code",
        "colab": {
          "base_uri": "https://localhost:8080/",
          "height": 85
        },
        "outputId": "3b7d2a9b-a45d-4b90-b920-0c7567d88c3f"
      },
      "source": [
        "#applying standard BSF\n",
        "\n",
        "\n",
        "def path(p):\n",
        "\tglobal n\n",
        "\tr=[]\n",
        "\tx,y=p\n",
        "\tif x-1>-1 :\n",
        "\t\tr.append((x-1,y))\n",
        "\tif x+1<n :\n",
        "\t\tr.append((x+1,y))\n",
        "\tif y-1>-1 :\n",
        "\t\tr.append((x,y-1))\n",
        "\tif y+1<n :\n",
        "\t\tr.append((x,y+1))\n",
        "\tif x+1<n and y+1<n:\n",
        "\t    r.append((x+1,y+1))\n",
        "\tif x-1>-1 and y-1>-1:\n",
        "\t    r.append((x-1,y-1))\n",
        "\tif x+1<n and y-1>-1:\n",
        "\t    r.append((x+1,y-1))\n",
        "\tif x-1>-1 and y+1 < n:\n",
        "\t    r.append((x-1,y+1))\n",
        "\treturn(r)\n",
        "n = int(input(\"Enter number of Rows 'N' in your NxN chess board : \")) \n",
        " \n",
        " \n",
        "def bfs(s):\n",
        "    level={s:0}\n",
        "    i=1\n",
        "    frontier=[s]\n",
        "    while frontier:\n",
        "        nex=[]\n",
        "        for u in frontier:\n",
        "            for v in path(u):\n",
        "                if v not in level:\n",
        "                \tlevel[v]=i\n",
        "                \tnex.append(v)\n",
        "        frontier=nex\n",
        "        i+=1\n",
        "    return(level)\n",
        " \n",
        "\n",
        "\n",
        "s=[int(i) for i in input(\"Enter space seperated coordinates of black pawn e.g '7 1'  : \").split(' ')]\n",
        "s=[i-1 for i in s]\n",
        "s=tuple(s)\n",
        "r=bfs(s)\n",
        "\n",
        "d=[int(i) for i in input(\"Enter space seperated coordinates of white pawn e.g '5 3'  : \").split(' ')]\n",
        "d=[i-1 for i in d]\n",
        "d=tuple(d)\n",
        "try:\n",
        "\tprint(\"It'll take \",r[d],\" moves\")\n",
        "except:\n",
        "\tprint(\"there was an error in input\")\n",
        " "
      ],
      "execution_count": 11,
      "outputs": [
        {
          "output_type": "stream",
          "text": [
            "Enter number of Rows 'N' in your NxN chess board : 8\n",
            "Enter space seperated coordinates of black pawn e.g '7 1'  : 5 6\n",
            "Enter space seperated coordinates of white pawn e.g '5 3'  : 4 2\n",
            "It'll take  4  moves\n"
          ],
          "name": "stdout"
        }
      ]
    },
    {
      "cell_type": "code",
      "metadata": {
        "id": "DAngUlnmQEYu",
        "colab_type": "code",
        "colab": {}
      },
      "source": [
        "8"
      ],
      "execution_count": 0,
      "outputs": []
    }
  ]
}