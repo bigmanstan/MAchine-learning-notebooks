{
 "cells": [
  {
   "cell_type": "markdown",
   "metadata": {},
   "source": [
    "## Importing required Libraries"
   ]
  },
  {
   "cell_type": "code",
   "execution_count": 4,
   "metadata": {},
   "outputs": [],
   "source": [
    "import matplotlib\n"
   ]
  },
  {
   "cell_type": "code",
   "execution_count": 5,
   "metadata": {},
   "outputs": [],
   "source": [
    "import numpy as np"
   ]
  },
  {
   "cell_type": "code",
   "execution_count": 6,
   "metadata": {},
   "outputs": [],
   "source": [
    "import matplotlib.pyplot as plt"
   ]
  },
  {
   "cell_type": "markdown",
   "metadata": {},
   "source": [
    "## Creating list of values to be used as Y axis"
   ]
  },
  {
   "cell_type": "code",
   "execution_count": 7,
   "metadata": {},
   "outputs": [],
   "source": [
    "t = np.arange(0.0, 2.0, 0.01)"
   ]
  },
  {
   "cell_type": "code",
   "execution_count": 8,
   "metadata": {},
   "outputs": [
    {
     "name": "stdout",
     "output_type": "stream",
     "text": [
      "[0.   0.01 0.02 0.03 0.04 0.05 0.06 0.07 0.08 0.09 0.1  0.11 0.12 0.13\n",
      " 0.14 0.15 0.16 0.17 0.18 0.19 0.2  0.21 0.22 0.23 0.24 0.25 0.26 0.27\n",
      " 0.28 0.29 0.3  0.31 0.32 0.33 0.34 0.35 0.36 0.37 0.38 0.39 0.4  0.41\n",
      " 0.42 0.43 0.44 0.45 0.46 0.47 0.48 0.49 0.5  0.51 0.52 0.53 0.54 0.55\n",
      " 0.56 0.57 0.58 0.59 0.6  0.61 0.62 0.63 0.64 0.65 0.66 0.67 0.68 0.69\n",
      " 0.7  0.71 0.72 0.73 0.74 0.75 0.76 0.77 0.78 0.79 0.8  0.81 0.82 0.83\n",
      " 0.84 0.85 0.86 0.87 0.88 0.89 0.9  0.91 0.92 0.93 0.94 0.95 0.96 0.97\n",
      " 0.98 0.99 1.   1.01 1.02 1.03 1.04 1.05 1.06 1.07 1.08 1.09 1.1  1.11\n",
      " 1.12 1.13 1.14 1.15 1.16 1.17 1.18 1.19 1.2  1.21 1.22 1.23 1.24 1.25\n",
      " 1.26 1.27 1.28 1.29 1.3  1.31 1.32 1.33 1.34 1.35 1.36 1.37 1.38 1.39\n",
      " 1.4  1.41 1.42 1.43 1.44 1.45 1.46 1.47 1.48 1.49 1.5  1.51 1.52 1.53\n",
      " 1.54 1.55 1.56 1.57 1.58 1.59 1.6  1.61 1.62 1.63 1.64 1.65 1.66 1.67\n",
      " 1.68 1.69 1.7  1.71 1.72 1.73 1.74 1.75 1.76 1.77 1.78 1.79 1.8  1.81\n",
      " 1.82 1.83 1.84 1.85 1.86 1.87 1.88 1.89 1.9  1.91 1.92 1.93 1.94 1.95\n",
      " 1.96 1.97 1.98 1.99]\n"
     ]
    }
   ],
   "source": [
    "print(t)"
   ]
  },
  {
   "cell_type": "markdown",
   "metadata": {},
   "source": [
    "## Creating list of values to be used as X axis"
   ]
  },
  {
   "cell_type": "code",
   "execution_count": 9,
   "metadata": {},
   "outputs": [],
   "source": [
    "s = 1 + np.sin(2 * np.pi * t)"
   ]
  },
  {
   "cell_type": "code",
   "execution_count": 10,
   "metadata": {},
   "outputs": [
    {
     "name": "stdout",
     "output_type": "stream",
     "text": [
      "[1.00000000e+00 1.06279052e+00 1.12533323e+00 1.18738131e+00\n",
      " 1.24868989e+00 1.30901699e+00 1.36812455e+00 1.42577929e+00\n",
      " 1.48175367e+00 1.53582679e+00 1.58778525e+00 1.63742399e+00\n",
      " 1.68454711e+00 1.72896863e+00 1.77051324e+00 1.80901699e+00\n",
      " 1.84432793e+00 1.87630668e+00 1.90482705e+00 1.92977649e+00\n",
      " 1.95105652e+00 1.96858316e+00 1.98228725e+00 1.99211470e+00\n",
      " 1.99802673e+00 2.00000000e+00 1.99802673e+00 1.99211470e+00\n",
      " 1.98228725e+00 1.96858316e+00 1.95105652e+00 1.92977649e+00\n",
      " 1.90482705e+00 1.87630668e+00 1.84432793e+00 1.80901699e+00\n",
      " 1.77051324e+00 1.72896863e+00 1.68454711e+00 1.63742399e+00\n",
      " 1.58778525e+00 1.53582679e+00 1.48175367e+00 1.42577929e+00\n",
      " 1.36812455e+00 1.30901699e+00 1.24868989e+00 1.18738131e+00\n",
      " 1.12533323e+00 1.06279052e+00 1.00000000e+00 9.37209480e-01\n",
      " 8.74666766e-01 8.12618685e-01 7.51310113e-01 6.90983006e-01\n",
      " 6.31875447e-01 5.74220708e-01 5.18246326e-01 4.64173205e-01\n",
      " 4.12214748e-01 3.62576010e-01 3.15452894e-01 2.71031373e-01\n",
      " 2.29486757e-01 1.90983006e-01 1.55672074e-01 1.23693320e-01\n",
      " 9.51729475e-02 7.02235141e-02 4.89434837e-02 3.14168389e-02\n",
      " 1.77127493e-02 7.88529869e-03 1.97327157e-03 0.00000000e+00\n",
      " 1.97327157e-03 7.88529869e-03 1.77127493e-02 3.14168389e-02\n",
      " 4.89434837e-02 7.02235141e-02 9.51729475e-02 1.23693320e-01\n",
      " 1.55672074e-01 1.90983006e-01 2.29486757e-01 2.71031373e-01\n",
      " 3.15452894e-01 3.62576010e-01 4.12214748e-01 4.64173205e-01\n",
      " 5.18246326e-01 5.74220708e-01 6.31875447e-01 6.90983006e-01\n",
      " 7.51310113e-01 8.12618685e-01 8.74666766e-01 9.37209480e-01\n",
      " 1.00000000e+00 1.06279052e+00 1.12533323e+00 1.18738131e+00\n",
      " 1.24868989e+00 1.30901699e+00 1.36812455e+00 1.42577929e+00\n",
      " 1.48175367e+00 1.53582679e+00 1.58778525e+00 1.63742399e+00\n",
      " 1.68454711e+00 1.72896863e+00 1.77051324e+00 1.80901699e+00\n",
      " 1.84432793e+00 1.87630668e+00 1.90482705e+00 1.92977649e+00\n",
      " 1.95105652e+00 1.96858316e+00 1.98228725e+00 1.99211470e+00\n",
      " 1.99802673e+00 2.00000000e+00 1.99802673e+00 1.99211470e+00\n",
      " 1.98228725e+00 1.96858316e+00 1.95105652e+00 1.92977649e+00\n",
      " 1.90482705e+00 1.87630668e+00 1.84432793e+00 1.80901699e+00\n",
      " 1.77051324e+00 1.72896863e+00 1.68454711e+00 1.63742399e+00\n",
      " 1.58778525e+00 1.53582679e+00 1.48175367e+00 1.42577929e+00\n",
      " 1.36812455e+00 1.30901699e+00 1.24868989e+00 1.18738131e+00\n",
      " 1.12533323e+00 1.06279052e+00 1.00000000e+00 9.37209480e-01\n",
      " 8.74666766e-01 8.12618685e-01 7.51310113e-01 6.90983006e-01\n",
      " 6.31875447e-01 5.74220708e-01 5.18246326e-01 4.64173205e-01\n",
      " 4.12214748e-01 3.62576010e-01 3.15452894e-01 2.71031373e-01\n",
      " 2.29486757e-01 1.90983006e-01 1.55672074e-01 1.23693320e-01\n",
      " 9.51729475e-02 7.02235141e-02 4.89434837e-02 3.14168389e-02\n",
      " 1.77127493e-02 7.88529869e-03 1.97327157e-03 0.00000000e+00\n",
      " 1.97327157e-03 7.88529869e-03 1.77127493e-02 3.14168389e-02\n",
      " 4.89434837e-02 7.02235141e-02 9.51729475e-02 1.23693320e-01\n",
      " 1.55672074e-01 1.90983006e-01 2.29486757e-01 2.71031373e-01\n",
      " 3.15452894e-01 3.62576010e-01 4.12214748e-01 4.64173205e-01\n",
      " 5.18246326e-01 5.74220708e-01 6.31875447e-01 6.90983006e-01\n",
      " 7.51310113e-01 8.12618685e-01 8.74666766e-01 9.37209480e-01]\n"
     ]
    }
   ],
   "source": [
    "print(s)"
   ]
  },
  {
   "cell_type": "markdown",
   "metadata": {},
   "source": [
    "### Checking what the command was used for "
   ]
  },
  {
   "cell_type": "code",
   "execution_count": 11,
   "metadata": {},
   "outputs": [
    {
     "name": "stdout",
     "output_type": "stream",
     "text": [
      "3.141592653589793\n"
     ]
    }
   ],
   "source": [
    "print(np.pi)"
   ]
  },
  {
   "cell_type": "markdown",
   "metadata": {},
   "source": [
    "## First variable is used for storing the visual graph and the second variable"
   ]
  },
  {
   "cell_type": "code",
   "execution_count": 12,
   "metadata": {},
   "outputs": [
    {
     "data": {
      "image/png": "[encoded data removed]",
      "text/plain": [
       "<Figure size 432x288 with 1 Axes>"
      ]
     },
     "metadata": {
      "needs_background": "light"
     },
     "output_type": "display_data"
    }
   ],
   "source": [
    "\n",
    "fig, ax = plt.subplots()"
   ]
  },
  {
   "cell_type": "code",
   "execution_count": 13,
   "metadata": {},
   "outputs": [
    {
     "name": "stdout",
     "output_type": "stream",
     "text": [
      "(<Figure size 432x288 with 1 Axes>, <matplotlib.axes._subplots.AxesSubplot object at 0x000002A3D26013C8>)\n"
     ]
    },
    {
     "data": {
      "image/png": "[encoded data removed]",
      "text/plain": [
       "<Figure size 432x288 with 1 Axes>"
      ]
     },
     "metadata": {
      "needs_background": "light"
     },
     "output_type": "display_data"
    }
   ],
   "source": [
    "print(plt.subplots())"
   ]
  },
  {
   "cell_type": "code",
   "execution_count": 14,
   "metadata": {},
   "outputs": [
    {
     "name": "stdout",
     "output_type": "stream",
     "text": [
      "Figure(432x288)\n"
     ]
    }
   ],
   "source": [
    "print(fig)"
   ]
  },
  {
   "cell_type": "code",
   "execution_count": 15,
   "metadata": {},
   "outputs": [
    {
     "data": {
      "image/png": "[encoded data removed]",
      "text/plain": [
       "<Figure size 432x288 with 1 Axes>"
      ]
     },
     "execution_count": 15,
     "metadata": {},
     "output_type": "execute_result"
    }
   ],
   "source": [
    "fig"
   ]
  },
  {
   "cell_type": "code",
   "execution_count": 16,
   "metadata": {},
   "outputs": [
    {
     "data": {
      "text/plain": [
       "<matplotlib.axes._subplots.AxesSubplot at 0x2a3d0561a20>"
      ]
     },
     "execution_count": 16,
     "metadata": {},
     "output_type": "execute_result"
    }
   ],
   "source": [
    "ax"
   ]
  },
  {
   "cell_type": "markdown",
   "metadata": {},
   "source": [
    "## Ploting lines in graph"
   ]
  },
  {
   "cell_type": "code",
   "execution_count": 17,
   "metadata": {},
   "outputs": [
    {
     "data": {
      "text/plain": [
       "[<matplotlib.lines.Line2D at 0x2a3d25c36d8>]"
      ]
     },
     "execution_count": 17,
     "metadata": {},
     "output_type": "execute_result"
    }
   ],
   "source": [
    "ax.plot(t, s)"
   ]
  },
  {
   "cell_type": "markdown",
   "metadata": {},
   "source": [
    "## checking the graph"
   ]
  },
  {
   "cell_type": "code",
   "execution_count": 18,
   "metadata": {},
   "outputs": [
    {
     "data": {
      "image/png": "[encoded data removed]",
      "text/plain": [
       "<Figure size 432x288 with 1 Axes>"
      ]
     },
     "execution_count": 18,
     "metadata": {},
     "output_type": "execute_result"
    }
   ],
   "source": [
    "fig"
   ]
  },
  {
   "cell_type": "code",
   "execution_count": 19,
   "metadata": {},
   "outputs": [
    {
     "data": {
      "text/plain": [
       "[Text(3.200000000000003, 0.5, 'voltage (mV)'),\n",
       " Text(0.5, 3.1999999999999993, 'time (s)'),\n",
       " Text(0.5, 1.0, 'About as simple as it gets, folks')]"
      ]
     },
     "execution_count": 19,
     "metadata": {},
     "output_type": "execute_result"
    }
   ],
   "source": [
    "ax.set(xlabel='time (s)', ylabel='voltage (mV)',\n",
    "       title='About as simple as it gets, folks')"
   ]
  },
  {
   "cell_type": "code",
   "execution_count": 20,
   "metadata": {},
   "outputs": [
    {
     "data": {
      "image/png": "[encoded data removed]",
      "text/plain": [
       "<Figure size 432x288 with 1 Axes>"
      ]
     },
     "execution_count": 20,
     "metadata": {},
     "output_type": "execute_result"
    }
   ],
   "source": [
    "fig"
   ]
  },
  {
   "cell_type": "code",
   "execution_count": 21,
   "metadata": {},
   "outputs": [],
   "source": [
    "ax.grid()"
   ]
  },
  {
   "cell_type": "code",
   "execution_count": 22,
   "metadata": {},
   "outputs": [
    {
     "data": {
      "image/png": "[encoded data removed]",
      "text/plain": [
       "<Figure size 432x288 with 1 Axes>"
      ]
     },
     "execution_count": 22,
     "metadata": {},
     "output_type": "execute_result"
    }
   ],
   "source": [
    "fig"
   ]
  },
  {
   "cell_type": "markdown",
   "metadata": {},
   "source": [
    "## Making a graph of my own now ..\n",
    "    "
   ]
  },
  {
   "cell_type": "code",
   "execution_count": 48,
   "metadata": {},
   "outputs": [],
   "source": [
    "def mm_fib(n):\n",
    "    return (np.matrix([[2,1],[1,1]])**(n//2))[0,(n+1)%2]"
   ]
  },
  {
   "cell_type": "code",
   "execution_count": 61,
   "metadata": {},
   "outputs": [],
   "source": [
    "xx = np.arange(0,20)\n"
   ]
  },
  {
   "cell_type": "code",
   "execution_count": 62,
   "metadata": {},
   "outputs": [
    {
     "data": {
      "text/plain": [
       "array([ 0,  1,  2,  3,  4,  5,  6,  7,  8,  9, 10, 11, 12, 13, 14, 15, 16,\n",
       "       17, 18, 19])"
      ]
     },
     "execution_count": 62,
     "metadata": {},
     "output_type": "execute_result"
    }
   ],
   "source": [
    "xx"
   ]
  },
  {
   "cell_type": "code",
   "execution_count": 66,
   "metadata": {},
   "outputs": [],
   "source": [
    "yx = [mm_fib(i) for i in range(20)]"
   ]
  },
  {
   "cell_type": "code",
   "execution_count": 67,
   "metadata": {},
   "outputs": [
    {
     "data": {
      "text/plain": [
       "[0,\n",
       " 1,\n",
       " 1,\n",
       " 2,\n",
       " 3,\n",
       " 5,\n",
       " 8,\n",
       " 13,\n",
       " 21,\n",
       " 34,\n",
       " 55,\n",
       " 89,\n",
       " 144,\n",
       " 233,\n",
       " 377,\n",
       " 610,\n",
       " 987,\n",
       " 1597,\n",
       " 2584,\n",
       " 4181]"
      ]
     },
     "execution_count": 67,
     "metadata": {},
     "output_type": "execute_result"
    }
   ],
   "source": [
    "yx"
   ]
  },
  {
   "cell_type": "code",
   "execution_count": 69,
   "metadata": {},
   "outputs": [
    {
     "data": {
      "image/png": "[encoded data removed]",
      "text/plain": [
       "<Figure size 432x288 with 1 Axes>"
      ]
     },
     "metadata": {
      "needs_background": "light"
     },
     "output_type": "display_data"
    }
   ],
   "source": [
    "\n",
    "def cosfun():\n",
    "    f,a = plt.subplots()\n",
    "    a.grid()\n",
    "    a.plot(yx,xx)\n",
    "    a.set(xlabel = \" value of nth fibo number \" , ylabel =\" index of Fibo number\" , title = \" Fibbonaci plot\")\n",
    "    t = np.arange\n",
    "    \n",
    "cosfun()"
   ]
  },
  {
   "cell_type": "code",
   "execution_count": null,
   "metadata": {},
   "outputs": [],
   "source": []
  }
 ],
 "metadata": {
  "kernelspec": {
   "display_name": "Python 3",
   "language": "python",
   "name": "python3"
  },
  "language_info": {
   "codemirror_mode": {
    "name": "ipython",
    "version": 3
   },
   "file_extension": ".py",
   "mimetype": "text/x-python",
   "name": "python",
   "nbconvert_exporter": "python",
   "pygments_lexer": "ipython3",
   "version": "3.7.1"
  }
 },
 "nbformat": 4,
 "nbformat_minor": 2
}
